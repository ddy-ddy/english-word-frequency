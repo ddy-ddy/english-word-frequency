{
 "cells": [
  {
   "cell_type": "code",
   "execution_count": 1,
   "metadata": {
    "collapsed": true
   },
   "outputs": [],
   "source": [
    "import spacy\n",
    "\n",
    "nlp = spacy.load(\"en_core_web_lg\")"
   ]
  },
  {
   "cell_type": "code",
   "execution_count": 12,
   "outputs": [],
   "source": [
    "import json\n",
    "import os\n",
    "\n",
    "\n",
    "def get_data_from_json(json_path):\n",
    "    '''\n",
    "    从json数据中得到info标签的数据\n",
    "    :param json_path:json文件\n",
    "    :return: json数据\n",
    "    '''\n",
    "    with open(json_path, 'r') as f:\n",
    "        data = json.load(f)\n",
    "    return data"
   ],
   "metadata": {
    "collapsed": false,
    "pycharm": {
     "name": "#%%\n"
    }
   }
  },
  {
   "cell_type": "code",
   "execution_count": 18,
   "outputs": [],
   "source": [
    "# files = os.listdir(\"examination_use_words_data\")\n",
    "# for file in files:\n",
    "#     print(f\"{file.replace('.json', '')}年\")\n",
    "#     data = get_data_from_json(f\"examination_use_words_data/{file}\")\n",
    "#\n",
    "#     for key in data:\n",
    "#         print(len(data[key]))\n",
    "#     print(\"\\n\")"
   ],
   "metadata": {
    "collapsed": false,
    "pycharm": {
     "name": "#%%\n"
    }
   }
  },
  {
   "cell_type": "code",
   "execution_count": 20,
   "outputs": [
    {
     "data": {
      "text/plain": "129"
     },
     "execution_count": 20,
     "metadata": {},
     "output_type": "execute_result"
    }
   ],
   "source": [
    "data = get_data_from_json(f\"examination_use_words_data/2006.json\")\n",
    "data=data[\"text_1\"]\n",
    "len(data)"
   ],
   "metadata": {
    "collapsed": false,
    "pycharm": {
     "name": "#%%\n"
    }
   }
  },
  {
   "cell_type": "code",
   "execution_count": 24,
   "outputs": [
    {
     "data": {
      "text/plain": "['compensate',\n 'compensation',\n 'lack',\n 'mental',\n 'stroll',\n 'difference',\n 'differ',\n 'general',\n 'generalize',\n 'reader',\n 'figure',\n 'track',\n 'vary',\n 'variable',\n 'estimate',\n 'address',\n 'supervise',\n 'minimum',\n 'sustain',\n 'millionaire',\n 'site',\n 'situation',\n 'local',\n 'locality',\n 'addict',\n 'survive',\n 'survival',\n 'wander',\n 'fund',\n 'everyday',\n 'dismiss',\n 'finding',\n 'provision',\n 'shelter',\n 'adult',\n 'costly',\n 'ending',\n 'spend',\n 'skilled',\n 'skillful',\n 'possible',\n 'possibility',\n 'possibly',\n 'bulk',\n 'package',\n 'pack',\n 'exist',\n 'existence',\n 'daily',\n 'daylight',\n 'increase',\n 'percentage',\n 'expand',\n 'expansion',\n 'manipulate',\n 'director',\n 'directory',\n 'range',\n 'individual',\n 'maintain',\n 'maintenance',\n 'complement',\n 'federal',\n 'federation',\n 'interpret',\n 'likewise',\n 'discovery',\n 'discover',\n 'service',\n 'predict',\n 'govern',\n 'governor',\n 'retain',\n 'support',\n 'comprehensive',\n 'comprehend',\n 'coordinate',\n 'improvement',\n 'deal',\n 'management',\n 'manager',\n 'manage',\n 'inflation',\n 'low',\n 'assumption',\n 'assume',\n 'search',\n 'drug',\n 'regulation',\n 'regulate',\n 'simply',\n 'simplify',\n 'analysis',\n 'analytic',\n 'cover',\n 'crowd',\n 'prove',\n 'sleep',\n 'matter',\n 'furthermore',\n 'global',\n 'globe',\n 'stand',\n 'approve',\n 'approval',\n 'lodge',\n 'significant',\n 'significance',\n 'signify',\n 'turn',\n 'community',\n 'notable',\n 'extensive',\n 'extension',\n 'extend',\n 'increasingly',\n 'illness',\n 'assistance',\n 'assist',\n 'assistant',\n 'proportion',\n 'population',\n 'alcohol',\n 'growth',\n 'agree',\n 'agreement',\n 'difficult',\n 'addition',\n 'additional']"
     },
     "execution_count": 24,
     "metadata": {},
     "output_type": "execute_result"
    }
   ],
   "source": [
    "x=[item[\"headWord\"] for item in data]\n",
    "x"
   ],
   "metadata": {
    "collapsed": false,
    "pycharm": {
     "name": "#%%\n"
    }
   }
  },
  {
   "cell_type": "code",
   "execution_count": null,
   "outputs": [],
   "source": [],
   "metadata": {
    "collapsed": false,
    "pycharm": {
     "name": "#%%\n"
    }
   }
  }
 ],
 "metadata": {
  "kernelspec": {
   "name": "base",
   "language": "python",
   "display_name": "python3.6"
  },
  "language_info": {
   "codemirror_mode": {
    "name": "ipython",
    "version": 2
   },
   "file_extension": ".py",
   "mimetype": "text/x-python",
   "name": "python",
   "nbconvert_exporter": "python",
   "pygments_lexer": "ipython2",
   "version": "2.7.6"
  }
 },
 "nbformat": 4,
 "nbformat_minor": 0
}